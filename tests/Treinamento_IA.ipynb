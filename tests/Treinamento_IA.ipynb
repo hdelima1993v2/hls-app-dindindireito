{
 "cells": [
  {
   "cell_type": "code",
   "execution_count": 1,
   "metadata": {},
   "outputs": [],
   "source": [
    "import pandas as pd\n",
    "\n",
    "path = \"C:\\\\Users\\\\herna\\\\Desktop\\\\Documentos Gerais\\\\15 - Projetos Python\\\\06_Automacao_financeiro\\\\python\\\\projeto\\\\app\\\\config\\\\base-gastos-consolidados.xlsx\"\n",
    "\n",
    "df =pd.read_excel(path, engine='openpyxl')"
   ]
  },
  {
   "cell_type": "code",
   "execution_count": 2,
   "metadata": {},
   "outputs": [],
   "source": [
    "df1 = df.copy()"
   ]
  },
  {
   "cell_type": "code",
   "execution_count": 3,
   "metadata": {},
   "outputs": [],
   "source": [
    "df = df1.copy()"
   ]
  },
  {
   "cell_type": "code",
   "execution_count": 4,
   "metadata": {},
   "outputs": [],
   "source": [
    "class Gastos:\n",
    "    def __init__(self, df):\n",
    "        self.df = df\n",
    "\n",
    "    def limpa_caract(self, coluna, caracter):\n",
    "        self.df[coluna]=self.df[coluna].apply(lambda x: x.replace(caracter,''))\n",
    "\n",
    "    def subtitui_hifen(self, coluna):\n",
    "        self.df[coluna]=self.df[coluna].apply(lambda x: x.replace('-',' '))\n",
    "    \n",
    "    def limpa_right(self, coluna,caract):\n",
    "        self.df[coluna]=self.df[coluna].apply(lambda x: \n",
    "            x.split(caract)[0:-1] if len(x.split(caract))>1 else x)\n",
    "        self.df[coluna]=self.df[coluna].apply(lambda x: ' '.join(x) \n",
    "            if type(x)==list else x)\n",
    "    \n",
    "    def classifica_df(self, coluna):\n",
    "        self.df[coluna] = self.df[coluna].sort_values(by=coluna,ascending=True)\n",
    "\n",
    "    def salva_df(self):\n",
    "        return self.df\n"
   ]
  },
  {
   "cell_type": "code",
   "execution_count": 5,
   "metadata": {},
   "outputs": [],
   "source": [
    "gastos = Gastos(df)\n",
    "\n",
    "gastos.limpa_caract('lançamento', '/')\n",
    "gastos.subtitui_hifen('lançamento')\n",
    "gastos.limpa_right('lançamento', ' ')\n",
    "df = gastos.salva_df()"
   ]
  },
  {
   "cell_type": "code",
   "execution_count": 6,
   "metadata": {},
   "outputs": [
    {
     "data": {
      "text/plain": [
       "data            2024-06-17 00:00:00\n",
       "lançamento    Mercadolivre*centrald\n",
       "valor                         99.99\n",
       "Tipo                        credito\n",
       "Name: 1294, dtype: object"
      ]
     },
     "execution_count": 6,
     "metadata": {},
     "output_type": "execute_result"
    }
   ],
   "source": [
    "df.iloc[1294]"
   ]
  },
  {
   "cell_type": "code",
   "execution_count": null,
   "metadata": {},
   "outputs": [],
   "source": [
    "import pandas as pd\n",
    "from sklearn.feature_extraction.text import TfidfVectorizer\n",
    "from sklearn.preprocessing import OneHotEncoder, StandardScaler\n",
    "from sklearn.cluster import KMeans\n",
    "import numpy as np\n",
    "\n",
    "from sklearn.metrics import silhouette_score\n",
    "from sklearn.datasets import make_blobs\n",
    "max_score = 0\n",
    "\n",
    "# Carregar os dados\n",
    "data = df.copy()\n",
    "for valor_max_features in range(1000,10000,1000):\n",
    "    for cluster in range(18, 30):\n",
    "        print(f'Número de max_features: {valor_max_features}')\n",
    "        print(f'Número de clusters: {cluster}')\n",
    "        for valor_n_grama in range(1, 7):\n",
    "            for valor_max_df in np.arange(1.0, 0.51, -0.1):\n",
    "                for valor_min_df in np.arange(0.0, 0.5, 0.01):\n",
    "                    # Transformar a coluna 'lançamento' usando TF-IDF\n",
    "                    tfidf = TfidfVectorizer(max_features=valor_max_features, \n",
    "                                            ngram_range=(1, valor_n_grama), \n",
    "                                            min_df=valor_min_df,\n",
    "                                            max_df=valor_max_df)\n",
    "                    try:\n",
    "                        lançamento_tfidf = tfidf.fit_transform(data['lançamento']).toarray()\n",
    "                    except ValueError as e:\n",
    "                        continue\n",
    "\n",
    "                    # Transformar a coluna 'Tipo' usando One-Hot Encoding\n",
    "                    onehot = OneHotEncoder()\n",
    "                    tipo_onehot = onehot.fit_transform(data[['Tipo']]).toarray()\n",
    "\n",
    "                    # Concatenar as colunas transformadas e a coluna 'valor'\n",
    "                    X = np.hstack((lançamento_tfidf, tipo_onehot, data[['valor']].values))\n",
    "\n",
    "                    # Normalizar os dados\n",
    "                    scaler = StandardScaler()\n",
    "                    X_scaled = scaler.fit_transform(X)\n",
    "\n",
    "                    # Aplicar K-means com inicialização K-means++\n",
    "                    kmeans = KMeans(n_clusters=cluster, init='k-means++', random_state=42)\n",
    "                    kmeans.fit(X_scaled)\n",
    "                    labels = kmeans.fit_predict(X_scaled)\n",
    "                    actual_score = silhouette_score(X_scaled, labels)\n",
    "                    data['Cluster'] = kmeans.labels_\n",
    "\n",
    "                    if actual_score > max_score:\n",
    "                        max_score = actual_score\n",
    "                        print(f'Número de clusters: {cluster} | '    \n",
    "                        f'Silhouette Score: {max_score} | '\n",
    "                        f'Valor max_features: {valor_max_features} | '\n",
    "                        f'Valor n_grama: {valor_n_grama} | '\n",
    "                        f'Valor min_df: {valor_min_df} | '\n",
    "                        f'Valor max_df: {valor_max_df}')\n",
    "\n",
    "                # Mostrar os primeiros registros do DataFrame com a coluna de clusters\n",
    "                \n",
    "\n",
    "# Método do cotovelo para determinar o número ideal de clusters\n",
    "import matplotlib.pyplot as plt\n",
    "\n",
    "# Calcular o erro quadrado dentro do cluster (inertia) para diferentes valores de k\n",
    "inertia = []\n",
    "for k in range(1, cluster):\n",
    "    kmeans = KMeans(n_clusters=k, init='k-means++', random_state=42)\n",
    "    kmeans.fit(X_scaled)\n",
    "    inertia.append(kmeans.inertia_)\n",
    "\n",
    "# Plotar o gráfico do cotovelo\n",
    "plt.figure(figsize=(8, 6))\n",
    "plt.plot(range(1, cluster), inertia, marker='o')\n",
    "plt.xlabel('Número de Clusters (k)')\n",
    "plt.ylabel('Inércia')\n",
    "plt.title('Método do Cotovelo')\n",
    "plt.show()\n"
   ]
  },
  {
   "cell_type": "code",
   "execution_count": 8,
   "metadata": {},
   "outputs": [
    {
     "name": "stdout",
     "output_type": "stream",
     "text": [
      "Número de clusters: 23 | Silhouette Score: 0.9482022480080229 | Valor max_features: 1000 | Valor n_grama: 2 | Valor min_df: 0.04 | Valor max_df: 1.0\n"
     ]
    },
    {
     "data": {
      "image/png": "[encoded data removed]",
      "text/plain": [
       "<Figure size 800x600 with 1 Axes>"
      ]
     },
     "metadata": {},
     "output_type": "display_data"
    }
   ],
   "source": [
    "import pandas as pd\n",
    "from sklearn.feature_extraction.text import TfidfVectorizer\n",
    "from sklearn.preprocessing import OneHotEncoder, StandardScaler\n",
    "from sklearn.cluster import KMeans\n",
    "import numpy as np\n",
    "\n",
    "from sklearn.metrics import silhouette_score\n",
    "from sklearn.datasets import make_blobs\n",
    "max_score = 0\n",
    "\n",
    "# Carregar os dados\n",
    "data = df.copy()\n",
    "\n",
    "cluster = 23\n",
    "valor_max_features = 1000\n",
    "valor_n_grama = 2\n",
    "valor_max_df = 1.0\n",
    "valor_min_df = 0.04\n",
    "\n",
    "# Transformar a coluna 'lançamento' usando TF-IDF\n",
    "tfidf = TfidfVectorizer(max_features=valor_max_features, \n",
    "                        ngram_range=(1, valor_n_grama), \n",
    "                        min_df=valor_min_df,\n",
    "                        max_df=valor_max_df)\n",
    "\n",
    "\n",
    "# Transformar a coluna 'Tipo' usando One-Hot Encoding\n",
    "onehot = OneHotEncoder()\n",
    "tipo_onehot = onehot.fit_transform(data[['Tipo']]).toarray()\n",
    "\n",
    "lançamento_tfidf = tfidf.fit_transform(data['lançamento']).toarray()\n",
    "\n",
    "# Concatenar as colunas transformadas e a coluna 'valor'\n",
    "X = np.hstack((lançamento_tfidf, tipo_onehot, data[['valor']].values))\n",
    "\n",
    "# Normalizar os dados\n",
    "scaler = StandardScaler()\n",
    "X_scaled = scaler.fit_transform(X)\n",
    "\n",
    "# Aplicar K-means com inicialização K-means++\n",
    "kmeans = KMeans(n_clusters=cluster, init='k-means++', random_state=42)\n",
    "kmeans.fit(X_scaled)\n",
    "labels = kmeans.fit_predict(X_scaled)\n",
    "actual_score = silhouette_score(X_scaled, labels)\n",
    "data['Cluster'] = kmeans.labels_\n",
    "\n",
    "if actual_score > max_score:\n",
    "    max_score = actual_score\n",
    "    print(f'Número de clusters: {cluster} | '    \n",
    "    f'Silhouette Score: {max_score} | '\n",
    "    f'Valor max_features: {valor_max_features} | '\n",
    "    f'Valor n_grama: {valor_n_grama} | '\n",
    "    f'Valor min_df: {valor_min_df} | '\n",
    "    f'Valor max_df: {valor_max_df}')\n",
    "\n",
    "# Mostrar os primeiros registros do DataFrame com a coluna de clusters\n",
    "                \n",
    "\n",
    "# Método do cotovelo para determinar o número ideal de clusters\n",
    "import matplotlib.pyplot as plt\n",
    "\n",
    "# Calcular o erro quadrado dentro do cluster (inertia) para diferentes valores de k\n",
    "inertia = []\n",
    "for k in range(1, cluster):\n",
    "    kmeans = KMeans(n_clusters=k, init='k-means++', random_state=42)\n",
    "    kmeans.fit(X_scaled)\n",
    "    inertia.append(kmeans.inertia_)\n",
    "\n",
    "# Plotar o gráfico do cotovelo\n",
    "plt.figure(figsize=(8, 6))\n",
    "plt.plot(range(1, cluster), inertia, marker='o')\n",
    "plt.xlabel('Número de Clusters (k)')\n",
    "plt.ylabel('Inércia')\n",
    "plt.title('Método do Cotovelo')\n",
    "plt.show()\n"
   ]
  },
  {
   "cell_type": "code",
   "execution_count": null,
   "metadata": {},
   "outputs": [],
   "source": [
    "df1"
   ]
  },
  {
   "cell_type": "code",
   "execution_count": 9,
   "metadata": {},
   "outputs": [],
   "source": [
    "c = data.sort_values(by='Cluster', ascending=True)"
   ]
  },
  {
   "cell_type": "code",
   "execution_count": null,
   "metadata": {},
   "outputs": [],
   "source": [
    "c"
   ]
  },
  {
   "cell_type": "code",
   "execution_count": 10,
   "metadata": {},
   "outputs": [],
   "source": [
    "c.to_excel('df_clusterizado.xlsx', index=False)"
   ]
  }
 ],
 "metadata": {
  "kernelspec": {
   "display_name": "Python 3",
   "language": "python",
   "name": "python3"
  },
  "language_info": {
   "codemirror_mode": {
    "name": "ipython",
    "version": 3
   },
   "file_extension": ".py",
   "mimetype": "text/x-python",
   "name": "python",
   "nbconvert_exporter": "python",
   "pygments_lexer": "ipython3",
   "version": "3.9.13"
  }
 },
 "nbformat": 4,
 "nbformat_minor": 2
}
