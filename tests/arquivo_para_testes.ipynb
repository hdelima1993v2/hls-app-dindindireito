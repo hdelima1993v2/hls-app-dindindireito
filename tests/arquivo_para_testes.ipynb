{
 "cells": [
  {
   "cell_type": "code",
   "execution_count": 7,
   "metadata": {},
   "outputs": [],
   "source": [
    "import sys\n",
    "sys.path.append('C:\\\\Users\\\\herna\\\\Desktop\\\\projetos_python\\\\06_Automacao_financeiro\\\\python\\\\projeto')\n",
    "\n",
    "from src.utils.utils import funcoes\n",
    "teste = funcoes.importa_yaml('../config/parametros.yaml')\n"
   ]
  },
  {
   "cell_type": "code",
   "execution_count": 6,
   "metadata": {},
   "outputs": [],
   "source": [
    "babu = [item['campo'] for item in teste['debito']['colunas']] "
   ]
  },
  {
   "cell_type": "code",
   "execution_count": 9,
   "metadata": {},
   "outputs": [
    {
     "name": "stdout",
     "output_type": "stream",
     "text": [
      "{'campo': 'data', 'tipo': 'data', 'aceita_nulos': 'N'}\n",
      "{'campo': 'lançamento', 'tipo': 'texto', 'aceita_nulos': 'N'}\n",
      "{'campo': 'ag./origem', 'tipo': 'numero', 'aceita_nulos': 'N'}\n",
      "{'campo': 'valor (R$)', 'tipo': 'numero', 'aceita_nulos': 'N'}\n",
      "{'campo': 'saldos (R$)', 'tipo': 'numero', 'aceita_nulos': 'N'}\n"
     ]
    }
   ],
   "source": [
    "for item in teste['debito']['colunas']:\n",
    "    print(item)"
   ]
  },
  {
   "cell_type": "code",
   "execution_count": 6,
   "metadata": {},
   "outputs": [
    {
     "name": "stdout",
     "output_type": "stream",
     "text": [
      "data\n",
      "texto\n",
      "numero\n",
      "numero\n",
      "numero\n"
     ]
    }
   ],
   "source": [
    "for item in teste['debito']['colunas']:\n",
    "    if item['tipo']=='data':\n",
    "        item['tipo']= DateType()\n",
    "    elif item['tipo']=='texto':\n",
    "        item['tipo']= StringType()\n",
    "    elif item['tipo']=='numero':\n",
    "        item['tipo']= DoubleType()"
   ]
  },
  {
   "cell_type": "code",
   "execution_count": 15,
   "metadata": {},
   "outputs": [
    {
     "data": {
      "text/plain": [
       "'data'"
      ]
     },
     "execution_count": 15,
     "metadata": {},
     "output_type": "execute_result"
    }
   ],
   "source": [
    "teste['debito']['filtra_campos'][0]['campo']\n"
   ]
  },
  {
   "cell_type": "code",
   "execution_count": null,
   "metadata": {},
   "outputs": [],
   "source": [
    "for categoria, detalhes in dicionario.items():\n",
    "    identificador = detalhes.get('identificador', None)\n",
    "    if identificador is not None and identificador != '':\n",
    "        print(f'O identificador na categoria \"{categoria}\" está preenchido: {identificador}')\n",
    "    else:\n",
    "        print(f'O identificador na categoria \"{categoria}\" está vazio.')"
   ]
  },
  {
   "cell_type": "code",
   "execution_count": null,
   "metadata": {},
   "outputs": [],
   "source": [
    "import traceback\n",
    "import sys\n",
    "\n",
    "try:\n",
    "    # Algum código que pode falhar\n",
    "    a = 1\n",
    "    b = 3\n",
    "    resultado = complex_function(a, b)\n",
    "except:\n",
    "    exc_type, exc_value, exc_traceback = sys.exc_info()\n",
    "\n",
    "\n",
    "    frame = exc_traceback.tb_frame\n",
    "    locais = frame.f_locals.copy()  # Faça uma cópia do dicionário\n",
    "    for var, val in locais.items():\n",
    "        print(f\"Variável: {var}, Valor: {val}\")"
   ]
  },
  {
   "cell_type": "code",
   "execution_count": 3,
   "metadata": {},
   "outputs": [
    {
     "name": "stdout",
     "output_type": "stream",
     "text": [
      "Erro encontrado: division by zero\n"
     ]
    }
   ],
   "source": [
    "import traceback\n",
    "import sys\n",
    "\n",
    "try:\n",
    "    # Seu código que pode falhar\n",
    "    a = 1\n",
    "    b = 0\n",
    "    c = a / b\n",
    "except Exception as e:  # Captura a exceção\n",
    "    print(\"Erro encontrado:\", str(e))\n",
    "    texto = traceback.format_exc()"
   ]
  },
  {
   "cell_type": "code",
   "execution_count": 7,
   "metadata": {},
   "outputs": [],
   "source": [
    "def cortar_texto(texto, ini_char, end_char):\n",
    "    inicio = texto.find(ini_char)\n",
    "    if inicio == -1:\n",
    "        return \"\"\n",
    "    fim = texto.find(end_char, inicio)\n",
    "    if fim == -1:\n",
    "        return texto[inicio:]\n",
    "    return texto[inicio:fim]"
   ]
  },
  {
   "cell_type": "code",
   "execution_count": 8,
   "metadata": {},
   "outputs": [
    {
     "data": {
      "text/plain": [
       "'line 8'"
      ]
     },
     "execution_count": 8,
     "metadata": {},
     "output_type": "execute_result"
    }
   ],
   "source": [
    "cortar_texto(texto,'line', ',')"
   ]
  },
  {
   "cell_type": "code",
   "execution_count": 2,
   "metadata": {},
   "outputs": [],
   "source": []
  },
  {
   "cell_type": "code",
   "execution_count": 10,
   "metadata": {},
   "outputs": [
    {
     "ename": "SyntaxError",
     "evalue": "f-string: unmatched '(' (utils.py, line 36)",
     "output_type": "error",
     "traceback": [
      "Traceback \u001b[1;36m(most recent call last)\u001b[0m:\n",
      "\u001b[0m  File \u001b[0;32mc:\\Users\\herna\\AppData\\Local\\Programs\\Python\\Python39\\lib\\site-packages\\IPython\\core\\interactiveshell.py:3550\u001b[0m in \u001b[0;35mrun_code\u001b[0m\n    exec(code_obj, self.user_global_ns, self.user_ns)\u001b[0m\n",
      "\u001b[1;36m  Cell \u001b[1;32mIn[10], line 1\u001b[1;36m\n\u001b[1;33m    import src.utils.utils\u001b[1;36m\n",
      "\u001b[1;36m  File \u001b[1;32m~\\Desktop\\projetos_python\\06_Automacao_financeiro\\python\\projeto\\src\\utils\\utils.py:36\u001b[1;36m\u001b[0m\n\u001b[1;33m    f'{funcoes.cortar_texto('erro','line',',')}')\u001b[0m\n\u001b[1;37m                             ^\u001b[0m\n\u001b[1;31mSyntaxError\u001b[0m\u001b[1;31m:\u001b[0m f-string: unmatched '('\n"
     ]
    }
   ],
   "source": [
    "import src.utils.utils"
   ]
  },
  {
   "cell_type": "code",
   "execution_count": 5,
   "metadata": {},
   "outputs": [
    {
     "data": {
      "text/plain": [
       "1.402777777777778"
      ]
     },
     "execution_count": 5,
     "metadata": {},
     "output_type": "execute_result"
    }
   ],
   "source": [
    "resultado = 0\n",
    "for i in range(0,101):\n",
    "    resultado = resultado + i\n",
    "\n",
    "minutos = (resultado * 1)/60\n",
    "hora =  minutos/60\n",
    "hora"
   ]
  },
  {
   "cell_type": "code",
   "execution_count": 12,
   "metadata": {},
   "outputs": [
    {
     "data": {
      "text/plain": [
       "'C:\\\\Users\\\\herna\\\\Desktop\\\\projetos_python\\\\06_Automacao_financeiro\\\\01_SOR\\\\Credito-Fatura-Excel.xls'"
      ]
     },
     "execution_count": 12,
     "metadata": {},
     "output_type": "execute_result"
    }
   ],
   "source": [
    "import os\n",
    "os.getenv('PATH_ARCHIVE')+ '\\\\' + os.listdir(os.getenv('PATH_ARCHIVE'))[0]\n"
   ]
  },
  {
   "cell_type": "code",
   "execution_count": 11,
   "metadata": {},
   "outputs": [
    {
     "ename": "NameError",
     "evalue": "name '__file__' is not defined",
     "output_type": "error",
     "traceback": [
      "\u001b[1;31m---------------------------------------------------------------------------\u001b[0m",
      "\u001b[1;31mNameError\u001b[0m                                 Traceback (most recent call last)",
      "Cell \u001b[1;32mIn[11], line 3\u001b[0m\n\u001b[0;32m      1\u001b[0m \u001b[38;5;28;01mimport\u001b[39;00m \u001b[38;5;21;01mos\u001b[39;00m\n\u001b[1;32m----> 3\u001b[0m os\u001b[38;5;241m.\u001b[39mpath\u001b[38;5;241m.\u001b[39mabspath(os\u001b[38;5;241m.\u001b[39mpath\u001b[38;5;241m.\u001b[39mjoin(os\u001b[38;5;241m.\u001b[39mpath\u001b[38;5;241m.\u001b[39mdirname(\u001b[38;5;18;43m__file__\u001b[39;49m), \u001b[38;5;124m'\u001b[39m\u001b[38;5;124m..\u001b[39m\u001b[38;5;124m'\u001b[39m))\n",
      "\u001b[1;31mNameError\u001b[0m: name '__file__' is not defined"
     ]
    }
   ],
   "source": [
    "import os\n",
    "\n",
    "os.path.abspath(os.path.join(os.path.dirname(__file__), '..'))"
   ]
  },
  {
   "cell_type": "code",
   "execution_count": 14,
   "metadata": {},
   "outputs": [
    {
     "data": {
      "text/plain": [
       "'c:\\\\Users\\\\herna\\\\Desktop\\\\projetos_python\\\\06_Automacao_financeiro\\\\python\\\\projeto'"
      ]
     },
     "execution_count": 14,
     "metadata": {},
     "output_type": "execute_result"
    }
   ],
   "source": [
    "os.path.abspath(os.path.join(os.getcwd(), '..'))"
   ]
  },
  {
   "cell_type": "code",
   "execution_count": 13,
   "metadata": {},
   "outputs": [
    {
     "ename": "NameError",
     "evalue": "name '__file__' is not defined",
     "output_type": "error",
     "traceback": [
      "\u001b[1;31m---------------------------------------------------------------------------\u001b[0m",
      "\u001b[1;31mNameError\u001b[0m                                 Traceback (most recent call last)",
      "Cell \u001b[1;32mIn[13], line 1\u001b[0m\n\u001b[1;32m----> 1\u001b[0m os\u001b[38;5;241m.\u001b[39mpath\u001b[38;5;241m.\u001b[39mdirname(\u001b[38;5;18;43m__file__\u001b[39;49m)\n",
      "\u001b[1;31mNameError\u001b[0m: name '__file__' is not defined"
     ]
    }
   ],
   "source": [
    "os.path.dirname(__file__)"
   ]
  }
 ],
 "metadata": {
  "kernelspec": {
   "display_name": "Python 3",
   "language": "python",
   "name": "python3"
  },
  "language_info": {
   "codemirror_mode": {
    "name": "ipython",
    "version": 3
   },
   "file_extension": ".py",
   "mimetype": "text/x-python",
   "name": "python",
   "nbconvert_exporter": "python",
   "pygments_lexer": "ipython3",
   "version": "3.9.13"
  }
 },
 "nbformat": 4,
 "nbformat_minor": 2
}
