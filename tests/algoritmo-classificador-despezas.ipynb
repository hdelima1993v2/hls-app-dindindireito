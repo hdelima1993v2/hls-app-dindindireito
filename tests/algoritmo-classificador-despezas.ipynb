{
 "cells": [
  {
   "cell_type": "markdown",
   "metadata": {},
   "source": [
    "### Importação da base"
   ]
  },
  {
   "cell_type": "code",
   "execution_count": 54,
   "metadata": {},
   "outputs": [],
   "source": [
    "import pandas as pd\n",
    "\n",
    "\n",
    "df_root = pd.read_excel('df_clusterizado.xlsx')\n",
    "\n",
    "\n",
    "\n",
    "\n",
    "df_root['valor'] = df_root.apply(\n",
    "    lambda row: -row['valor'] if row['Tipo'] == 'credito' else row['valor'], axis=1\n",
    ")\n"
   ]
  },
  {
   "cell_type": "code",
   "execution_count": 55,
   "metadata": {},
   "outputs": [
    {
     "data": {
      "text/html": [
       "<div>\n",
       "<style scoped>\n",
       "    .dataframe tbody tr th:only-of-type {\n",
       "        vertical-align: middle;\n",
       "    }\n",
       "\n",
       "    .dataframe tbody tr th {\n",
       "        vertical-align: top;\n",
       "    }\n",
       "\n",
       "    .dataframe thead th {\n",
       "        text-align: right;\n",
       "    }\n",
       "</style>\n",
       "<table border=\"1\" class=\"dataframe\">\n",
       "  <thead>\n",
       "    <tr style=\"text-align: right;\">\n",
       "      <th></th>\n",
       "      <th>data</th>\n",
       "      <th>lançamento</th>\n",
       "      <th>valor</th>\n",
       "      <th>Tipo</th>\n",
       "      <th>Cluster</th>\n",
       "      <th>sub-cluster</th>\n",
       "    </tr>\n",
       "  </thead>\n",
       "  <tbody>\n",
       "    <tr>\n",
       "      <th>0</th>\n",
       "      <td>2021-12-30</td>\n",
       "      <td>English Live</td>\n",
       "      <td>-263.00</td>\n",
       "      <td>credito</td>\n",
       "      <td>assinaturas e parcelamentos</td>\n",
       "      <td>não se aplica</td>\n",
       "    </tr>\n",
       "    <tr>\n",
       "      <th>1</th>\n",
       "      <td>2024-01-03</td>\n",
       "      <td>Amazon Digital</td>\n",
       "      <td>-14.90</td>\n",
       "      <td>credito</td>\n",
       "      <td>assinaturas e parcelamentos</td>\n",
       "      <td>não se aplica</td>\n",
       "    </tr>\n",
       "    <tr>\n",
       "      <th>2</th>\n",
       "      <td>2024-01-03</td>\n",
       "      <td>Google Telegram</td>\n",
       "      <td>-19.90</td>\n",
       "      <td>credito</td>\n",
       "      <td>assinaturas e parcelamentos</td>\n",
       "      <td>não se aplica</td>\n",
       "    </tr>\n",
       "    <tr>\n",
       "      <th>3</th>\n",
       "      <td>2024-01-04</td>\n",
       "      <td>99* POP 04Jan</td>\n",
       "      <td>-25.20</td>\n",
       "      <td>credito</td>\n",
       "      <td>uber</td>\n",
       "      <td>não se aplica</td>\n",
       "    </tr>\n",
       "    <tr>\n",
       "      <th>4</th>\n",
       "      <td>2024-01-04</td>\n",
       "      <td>Amazon Digital</td>\n",
       "      <td>-41.58</td>\n",
       "      <td>credito</td>\n",
       "      <td>assinaturas e parcelamentos</td>\n",
       "      <td>não se aplica</td>\n",
       "    </tr>\n",
       "  </tbody>\n",
       "</table>\n",
       "</div>"
      ],
      "text/plain": [
       "        data       lançamento   valor     Tipo                      Cluster  \\\n",
       "0 2021-12-30     English Live -263.00  credito  assinaturas e parcelamentos   \n",
       "1 2024-01-03   Amazon Digital  -14.90  credito  assinaturas e parcelamentos   \n",
       "2 2024-01-03  Google Telegram  -19.90  credito  assinaturas e parcelamentos   \n",
       "3 2024-01-04    99* POP 04Jan  -25.20  credito                         uber   \n",
       "4 2024-01-04   Amazon Digital  -41.58  credito  assinaturas e parcelamentos   \n",
       "\n",
       "     sub-cluster  \n",
       "0  não se aplica  \n",
       "1  não se aplica  \n",
       "2  não se aplica  \n",
       "3  não se aplica  \n",
       "4  não se aplica  "
      ]
     },
     "execution_count": 55,
     "metadata": {},
     "output_type": "execute_result"
    }
   ],
   "source": [
    "df_root[df_root['Tipo'] == 'credito'].head()\n"
   ]
  },
  {
   "cell_type": "markdown",
   "metadata": {},
   "source": [
    "### Separação das entradas em teste e treinamento de forma extratificada"
   ]
  },
  {
   "cell_type": "code",
   "execution_count": 56,
   "metadata": {},
   "outputs": [
    {
     "name": "stdout",
     "output_type": "stream",
     "text": [
      "Cluster\n",
      "gastos gerais debito           532\n",
      "uber                           461\n",
      "assinaturas e parcelamentos    438\n",
      "pix                            296\n",
      "delivery                       290\n",
      "despezas                       238\n",
      "aplicaut                       175\n",
      "pagamentos                     153\n",
      "taxas                           75\n",
      "rendimentos                     73\n",
      "drogaria                        69\n",
      "fatura cartao                   38\n",
      "saldo                           17\n",
      "viagem                           7\n",
      "Name: count, dtype: int64\n"
     ]
    }
   ],
   "source": [
    "from sklearn.model_selection import StratifiedShuffleSplit\n",
    "\n",
    "# Verifique se os clusters têm valores representativos antes da estratificação\n",
    "cluster_value_counts = df_root['Cluster'].value_counts()\n",
    "print(cluster_value_counts)\n",
    "\n",
    "# Criação da coluna 'strat_column' que combina 'Cluster' e 'sub-cluster' para estratificação\n",
    "df_root['strat_column'] = df_root['Cluster'] + \"_\" + df_root['sub-cluster']\n",
    "\n",
    "# Inicialização do StratifiedShuffleSplit\n",
    "split = StratifiedShuffleSplit(n_splits=1, test_size=0.2, random_state=42)\n",
    "\n",
    "for train_index, test_index in split.split(df_root, df_root['strat_column']):\n",
    "    strat_train_set = df_root.loc[train_index]\n",
    "    strat_test_set = df_root.loc[test_index]"
   ]
  },
  {
   "cell_type": "markdown",
   "metadata": {},
   "source": []
  },
  {
   "cell_type": "code",
   "execution_count": 57,
   "metadata": {},
   "outputs": [],
   "source": [
    "\n",
    "def validate_stratification(original_df, stratified_df, strat_column):\n",
    "    # Calcula a proporção de cada classe na base original\n",
    "    original_proportions = original_df[strat_column].value_counts(normalize=True)\n",
    "    \n",
    "    # Calcula a proporção de cada classe na base estratificada\n",
    "    stratified_proportions = stratified_df[strat_column].value_counts(normalize=True)\n",
    "    \n",
    "    # Cria um DataFrame para comparar as proporções\n",
    "    comparison_df = pd.DataFrame({\n",
    "        'Original Proportion': original_proportions,\n",
    "        'Stratified Proportion': stratified_proportions\n",
    "    })\n",
    "    \n",
    "    # Calcula a diferença entre as proporções\n",
    "    comparison_df['Difference'] = comparison_df['Stratified Proportion'] - comparison_df['Original Proportion']\n",
    "    \n",
    "    # Exibe o resultado\n",
    "    print(\"Comparison of Class Proportions between Original and Stratified DataFrames:\")\n",
    "    print(comparison_df)\n",
    "    \n",
    "    # Verifica se as diferenças são pequenas o suficiente\n",
    "    if comparison_df['Difference'].abs().max() < 0.01:  # Tolerância de 1%\n",
    "        print(\"\\nEstratificação validada: as proporções das classes são consistentes.\")\n",
    "    else:\n",
    "        print(\"\\nAtenção: Há diferenças significativas nas proporções das classes.\")"
   ]
  },
  {
   "cell_type": "code",
   "execution_count": 58,
   "metadata": {},
   "outputs": [
    {
     "name": "stdout",
     "output_type": "stream",
     "text": [
      "Series([], Name: count, dtype: int64)\n"
     ]
    }
   ],
   "source": [
    "strat_counts = df_root['strat_column'].value_counts()\n",
    "print(strat_counts[strat_counts < 2])"
   ]
  },
  {
   "cell_type": "code",
   "execution_count": 59,
   "metadata": {},
   "outputs": [
    {
     "name": "stdout",
     "output_type": "stream",
     "text": [
      "<class 'pandas.core.frame.DataFrame'>\n",
      "RangeIndex: 2862 entries, 0 to 2861\n",
      "Data columns (total 7 columns):\n",
      " #   Column        Non-Null Count  Dtype         \n",
      "---  ------        --------------  -----         \n",
      " 0   data          2862 non-null   datetime64[ns]\n",
      " 1   lançamento    2862 non-null   object        \n",
      " 2   valor         2862 non-null   float64       \n",
      " 3   Tipo          2862 non-null   object        \n",
      " 4   Cluster       2862 non-null   object        \n",
      " 5   sub-cluster   2862 non-null   object        \n",
      " 6   strat_column  2862 non-null   object        \n",
      "dtypes: datetime64[ns](1), float64(1), object(5)\n",
      "memory usage: 156.6+ KB\n"
     ]
    }
   ],
   "source": [
    "df_root.info()"
   ]
  },
  {
   "cell_type": "code",
   "execution_count": 38,
   "metadata": {},
   "outputs": [
    {
     "name": "stdout",
     "output_type": "stream",
     "text": [
      "Comparison of Class Proportions between Original and Stratified DataFrames:\n",
      "                                           Original Proportion  \\\n",
      "strat_column                                                     \n",
      "uber_não se aplica                                    0.161076   \n",
      "assinaturas e parcelamentos_não se aplica             0.153040   \n",
      "gastos gerais debito_pontual                          0.108316   \n",
      "pix_não se aplica                                     0.103424   \n",
      "delivery_não se aplica                                0.101328   \n",
      "aplicaut_não se aplica                                0.061146   \n",
      "pagamentos_não se aplica                              0.053459   \n",
      "gastos gerais debito_alimentacao                      0.036338   \n",
      "despezas_pontual                                      0.029350   \n",
      "taxas_não se aplica                                   0.026205   \n",
      "rendimentos_não se aplica                             0.025507   \n",
      "drogaria_não se aplica                                0.024109   \n",
      "gastos gerais debito_presencial                       0.021663   \n",
      "despezas_compras internet                             0.016422   \n",
      "fatura cartao_não se aplica                           0.013277   \n",
      "despezas_celular                                      0.009085   \n",
      "despezas_mercado condominio                           0.009085   \n",
      "gastos gerais debito_mercado condominio               0.008036   \n",
      "saldo_não se aplica                                   0.005940   \n",
      "despezas_alimentacao                                  0.004892   \n",
      "despezas_petshop                                      0.004542   \n",
      "gastos gerais debito_mercado                          0.004193   \n",
      "despezas_presencial                                   0.003494   \n",
      "gastos gerais debito_celular                          0.003145   \n",
      "viagem_não se aplica                                  0.002446   \n",
      "gastos gerais debito_saidas                           0.002446   \n",
      "despezas_transporte                                   0.002096   \n",
      "despezas_mercado                                      0.001747   \n",
      "gastos gerais debito_petshop                          0.001747   \n",
      "despezas_cursos                                       0.001398   \n",
      "despezas_saude                                        0.001048   \n",
      "\n",
      "                                           Stratified Proportion    Difference  \n",
      "strat_column                                                                    \n",
      "uber_não se aplica                                      0.161206  1.295962e-04  \n",
      "assinaturas e parcelamentos_não se aplica               0.152905 -1.346335e-04  \n",
      "gastos gerais debito_pontual                            0.108344  2.839210e-05  \n",
      "pix_não se aplica                                       0.103539  1.144843e-04  \n",
      "delivery_não se aplica                                  0.101354  2.656035e-05  \n",
      "aplicaut_não se aplica                                  0.061162  1.602780e-05  \n",
      "pagamentos_não se aplica                                0.053298 -1.607359e-04  \n",
      "gastos gerais debito_alimentacao                        0.036260 -7.784931e-05  \n",
      "despezas_pontual                                        0.029270 -7.968106e-05  \n",
      "taxas_não se aplica                                     0.026212  6.869057e-06  \n",
      "rendimentos_não se aplica                               0.025339 -1.680629e-04  \n",
      "drogaria_não se aplica                                  0.024028 -8.105487e-05  \n",
      "gastos gerais debito_presencial                         0.021844  1.804272e-04  \n",
      "despezas_compras internet                               0.016601  1.790534e-04  \n",
      "fatura cartao_não se aplica                             0.013106 -1.712685e-04  \n",
      "despezas_celular                                        0.009174  8.975567e-05  \n",
      "despezas_mercado condominio                             0.009174  8.975567e-05  \n",
      "gastos gerais debito_mercado condominio                 0.007864 -1.726423e-04  \n",
      "saldo_não se aplica                                     0.006116  1.763058e-04  \n",
      "despezas_alimentacao                                    0.004806 -8.609218e-05  \n",
      "despezas_petshop                                        0.004369 -1.735582e-04  \n",
      "gastos gerais debito_mercado                            0.004369  1.758478e-04  \n",
      "despezas_presencial                                     0.003495  9.158742e-07  \n",
      "gastos gerais debito_celular                            0.003058 -8.655011e-05  \n",
      "viagem_não se aplica                                    0.002621  1.753899e-04  \n",
      "gastos gerais debito_saidas                             0.002621  1.753899e-04  \n",
      "despezas_transporte                                     0.002184  8.792392e-05  \n",
      "despezas_mercado                                        0.001747  4.579371e-07  \n",
      "gastos gerais debito_petshop                            0.001747  4.579371e-07  \n",
      "despezas_cursos                                         0.001311 -8.700805e-05  \n",
      "despezas_saude                                          0.000874 -1.744740e-04  \n",
      "\n",
      "Estratificação validada: as proporções das classes são consistentes.\n"
     ]
    }
   ],
   "source": [
    "validate_stratification(df_root, strat_train_set, 'strat_column')\n"
   ]
  },
  {
   "cell_type": "code",
   "execution_count": 62,
   "metadata": {},
   "outputs": [
    {
     "data": {
      "image/png": "[encoded data removed]",
      "text/plain": [
       "<Figure size 1400x800 with 1 Axes>"
      ]
     },
     "metadata": {},
     "output_type": "display_data"
    }
   ],
   "source": [
    "import matplotlib.pyplot as plt\n",
    "\n",
    "# Definir o tamanho da plotagem\n",
    "plt.figure(figsize=(14, 8))  # Aumenta o tamanho da figura\n",
    "\n",
    "# Plotar o histograma com barras mais finas\n",
    "strat_train_set['data'].hist(bins=100, edgecolor='black')  # bins define o número de barras; quanto maior, mais finas as barras\n",
    "\n",
    "# Adicionar títulos e rótulos para melhor visualização\n",
    "plt.title('Distribuição da Coluna data', fontsize=16)\n",
    "plt.xlabel('Data', fontsize=14)\n",
    "plt.ylabel('Frequência', fontsize=14)\n",
    "\n",
    "# Mostrar a plotagem\n",
    "plt.show()"
   ]
  },
  {
   "cell_type": "code",
   "execution_count": 66,
   "metadata": {},
   "outputs": [
    {
     "data": {
      "image/png": "[encoded data removed]",
      "text/plain": [
       "<Figure size 1400x800 with 1 Axes>"
      ]
     },
     "metadata": {},
     "output_type": "display_data"
    }
   ],
   "source": [
    "import matplotlib.pyplot as plt\n",
    "\n",
    "# Definir o tamanho da plotagem\n",
    "plt.figure(figsize=(14, 8))  # Aumenta o tamanho da figura\n",
    "\n",
    "# Plotar o histograma com barras mais finas\n",
    "strat_train_set['valor'].hist(bins=15, edgecolor='black')  # bins define o número de barras; quanto maior, mais finas as barras\n",
    "\n",
    "# Adicionar títulos e rótulos para melhor visualização\n",
    "plt.title('Distribuição da Coluna data', fontsize=16)\n",
    "plt.xlabel('Data', fontsize=14)\n",
    "plt.ylabel('Frequência', fontsize=14)\n",
    "\n",
    "# Mostrar a plotagem\n",
    "plt.show()"
   ]
  },
  {
   "cell_type": "code",
   "execution_count": 86,
   "metadata": {},
   "outputs": [
    {
     "data": {
      "text/plain": [
       "Cluster\n",
       "rendimentos                    205941.32\n",
       "fatura cartao                  111535.43\n",
       "aplicaut                        77684.77\n",
       "pix                             75364.46\n",
       "assinaturas e parcelamentos     26121.86\n",
       "gastos gerais debito            20703.49\n",
       "pagamentos                      20032.56\n",
       "despezas                        18831.44\n",
       "delivery                        14627.24\n",
       "uber                             8993.04\n",
       "drogaria                         5535.14\n",
       "saldo                            5022.22\n",
       "taxas                            3453.82\n",
       "viagem                           2802.00\n",
       "Name: valor, dtype: float64"
      ]
     },
     "execution_count": 86,
     "metadata": {},
     "output_type": "execute_result"
    }
   ],
   "source": [
    "strat_train_set.groupby('Cluster')['valor'].apply(lambda x: x.abs().sum()).sort_values(ascending=False)\n"
   ]
  },
  {
   "cell_type": "code",
   "execution_count": 87,
   "metadata": {},
   "outputs": [
    {
     "data": {
      "text/html": [
       "<div>\n",
       "<style scoped>\n",
       "    .dataframe tbody tr th:only-of-type {\n",
       "        vertical-align: middle;\n",
       "    }\n",
       "\n",
       "    .dataframe tbody tr th {\n",
       "        vertical-align: top;\n",
       "    }\n",
       "\n",
       "    .dataframe thead th {\n",
       "        text-align: right;\n",
       "    }\n",
       "</style>\n",
       "<table border=\"1\" class=\"dataframe\">\n",
       "  <thead>\n",
       "    <tr style=\"text-align: right;\">\n",
       "      <th></th>\n",
       "      <th>data</th>\n",
       "      <th>valor</th>\n",
       "    </tr>\n",
       "  </thead>\n",
       "  <tbody>\n",
       "    <tr>\n",
       "      <th>count</th>\n",
       "      <td>2289</td>\n",
       "      <td>2289.000000</td>\n",
       "    </tr>\n",
       "    <tr>\n",
       "      <th>mean</th>\n",
       "      <td>2023-07-26 01:05:25.557011968</td>\n",
       "      <td>-24.312988</td>\n",
       "    </tr>\n",
       "    <tr>\n",
       "      <th>min</th>\n",
       "      <td>2021-12-30 00:00:00</td>\n",
       "      <td>-10212.890000</td>\n",
       "    </tr>\n",
       "    <tr>\n",
       "      <th>25%</th>\n",
       "      <td>2022-12-30 00:00:00</td>\n",
       "      <td>-85.120000</td>\n",
       "    </tr>\n",
       "    <tr>\n",
       "      <th>50%</th>\n",
       "      <td>2023-08-16 00:00:00</td>\n",
       "      <td>-35.000000</td>\n",
       "    </tr>\n",
       "    <tr>\n",
       "      <th>75%</th>\n",
       "      <td>2024-02-14 00:00:00</td>\n",
       "      <td>-13.000000</td>\n",
       "    </tr>\n",
       "    <tr>\n",
       "      <th>max</th>\n",
       "      <td>2024-11-20 00:00:00</td>\n",
       "      <td>13602.820000</td>\n",
       "    </tr>\n",
       "    <tr>\n",
       "      <th>std</th>\n",
       "      <td>NaN</td>\n",
       "      <td>1002.224479</td>\n",
       "    </tr>\n",
       "  </tbody>\n",
       "</table>\n",
       "</div>"
      ],
      "text/plain": [
       "                                data         valor\n",
       "count                           2289   2289.000000\n",
       "mean   2023-07-26 01:05:25.557011968    -24.312988\n",
       "min              2021-12-30 00:00:00 -10212.890000\n",
       "25%              2022-12-30 00:00:00    -85.120000\n",
       "50%              2023-08-16 00:00:00    -35.000000\n",
       "75%              2024-02-14 00:00:00    -13.000000\n",
       "max              2024-11-20 00:00:00  13602.820000\n",
       "std                              NaN   1002.224479"
      ]
     },
     "execution_count": 87,
     "metadata": {},
     "output_type": "execute_result"
    }
   ],
   "source": [
    "strat_train_set.describe()"
   ]
  },
  {
   "cell_type": "code",
   "execution_count": 89,
   "metadata": {},
   "outputs": [
    {
     "data": {
      "text/plain": [
       "<Axes: xlabel='data', ylabel='valor'>"
      ]
     },
     "execution_count": 89,
     "metadata": {},
     "output_type": "execute_result"
    },
    {
     "data": {
      "image/png": "[encoded data removed]",
      "text/plain": [
       "<Figure size 640x480 with 1 Axes>"
      ]
     },
     "metadata": {},
     "output_type": "display_data"
    }
   ],
   "source": [
    "strat_train_set.plot(kind='scatter', x='data', y='valor', alpha=0.1)"
   ]
  },
  {
   "cell_type": "code",
   "execution_count": 91,
   "metadata": {},
   "outputs": [],
   "source": [
    "df = strat_train_set[['data','valor']].copy()\n",
    "corr_matrix = df.corr()"
   ]
  },
  {
   "cell_type": "code",
   "execution_count": 92,
   "metadata": {},
   "outputs": [
    {
     "data": {
      "text/html": [
       "<div>\n",
       "<style scoped>\n",
       "    .dataframe tbody tr th:only-of-type {\n",
       "        vertical-align: middle;\n",
       "    }\n",
       "\n",
       "    .dataframe tbody tr th {\n",
       "        vertical-align: top;\n",
       "    }\n",
       "\n",
       "    .dataframe thead th {\n",
       "        text-align: right;\n",
       "    }\n",
       "</style>\n",
       "<table border=\"1\" class=\"dataframe\">\n",
       "  <thead>\n",
       "    <tr style=\"text-align: right;\">\n",
       "      <th></th>\n",
       "      <th>data</th>\n",
       "      <th>valor</th>\n",
       "    </tr>\n",
       "  </thead>\n",
       "  <tbody>\n",
       "    <tr>\n",
       "      <th>data</th>\n",
       "      <td>1.000000</td>\n",
       "      <td>0.001491</td>\n",
       "    </tr>\n",
       "    <tr>\n",
       "      <th>valor</th>\n",
       "      <td>0.001491</td>\n",
       "      <td>1.000000</td>\n",
       "    </tr>\n",
       "  </tbody>\n",
       "</table>\n",
       "</div>"
      ],
      "text/plain": [
       "           data     valor\n",
       "data   1.000000  0.001491\n",
       "valor  0.001491  1.000000"
      ]
     },
     "execution_count": 92,
     "metadata": {},
     "output_type": "execute_result"
    }
   ],
   "source": [
    "corr_matrix"
   ]
  }
 ],
 "metadata": {
  "kernelspec": {
   "display_name": "Python 3",
   "language": "python",
   "name": "python3"
  },
  "language_info": {
   "codemirror_mode": {
    "name": "ipython",
    "version": 3
   },
   "file_extension": ".py",
   "mimetype": "text/x-python",
   "name": "python",
   "nbconvert_exporter": "python",
   "pygments_lexer": "ipython3",
   "version": "3.9.13"
  }
 },
 "nbformat": 4,
 "nbformat_minor": 2
}
